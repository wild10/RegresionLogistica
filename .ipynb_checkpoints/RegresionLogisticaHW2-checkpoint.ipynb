{
 "cells": [
  {
   "cell_type": "markdown",
   "metadata": {},
   "source": [
    "# Regresion Logistica para Sentiment Analysis\n",
    "\n",
    "importa panda para cargar datos en csv"
   ]
  },
  {
   "cell_type": "code",
   "execution_count": 2,
   "metadata": {},
   "outputs": [],
   "source": [
    "import pandas as pd # data frame \n",
    "import numpy as np  # multidimensional array "
   ]
  },
  {
   "cell_type": "code",
   "execution_count": 3,
   "metadata": {},
   "outputs": [
    {
     "data": {
      "text/html": [
       "<div>\n",
       "<style scoped>\n",
       "    .dataframe tbody tr th:only-of-type {\n",
       "        vertical-align: middle;\n",
       "    }\n",
       "\n",
       "    .dataframe tbody tr th {\n",
       "        vertical-align: top;\n",
       "    }\n",
       "\n",
       "    .dataframe thead th {\n",
       "        text-align: right;\n",
       "    }\n",
       "</style>\n",
       "<table border=\"1\" class=\"dataframe\">\n",
       "  <thead>\n",
       "    <tr style=\"text-align: right;\">\n",
       "      <th></th>\n",
       "      <th>review</th>\n",
       "      <th>sentiment</th>\n",
       "    </tr>\n",
       "  </thead>\n",
       "  <tbody>\n",
       "    <tr>\n",
       "      <th>49995</th>\n",
       "      <td>OK, lets start with the best. the building. al...</td>\n",
       "      <td>0</td>\n",
       "    </tr>\n",
       "    <tr>\n",
       "      <th>49996</th>\n",
       "      <td>The British 'heritage film' industry is out of...</td>\n",
       "      <td>0</td>\n",
       "    </tr>\n",
       "    <tr>\n",
       "      <th>49997</th>\n",
       "      <td>I don't even know where to begin on this one. ...</td>\n",
       "      <td>0</td>\n",
       "    </tr>\n",
       "    <tr>\n",
       "      <th>49998</th>\n",
       "      <td>Richard Tyler is a little boy who is scared of...</td>\n",
       "      <td>0</td>\n",
       "    </tr>\n",
       "    <tr>\n",
       "      <th>49999</th>\n",
       "      <td>I waited long to watch this movie. Also becaus...</td>\n",
       "      <td>1</td>\n",
       "    </tr>\n",
       "  </tbody>\n",
       "</table>\n",
       "</div>"
      ],
      "text/plain": [
       "                                                  review  sentiment\n",
       "49995  OK, lets start with the best. the building. al...          0\n",
       "49996  The British 'heritage film' industry is out of...          0\n",
       "49997  I don't even know where to begin on this one. ...          0\n",
       "49998  Richard Tyler is a little boy who is scared of...          0\n",
       "49999  I waited long to watch this movie. Also becaus...          1"
      ]
     },
     "execution_count": 3,
     "metadata": {},
     "output_type": "execute_result"
    }
   ],
   "source": [
    "# cargar datos del archivo local de 50 000 con 25 x 10^5 negativos y otros positivos\n",
    "\n",
    "data_df = pd.read_csv('shuffled_movie_data.csv',error_bad_lines =False)\n",
    "data_df.tail()\n"
   ]
  },
  {
   "cell_type": "markdown",
   "metadata": {},
   "source": [
    "En esta primera parte vamos a cargar los datos que tenemos con columnas 'Review' y 'sentiment' los que son texto de la opinion de un video y la conclusion en sentiment\n",
    "- 1 : si es positiva la opinion\n",
    "- 0 : si es negativa la opinion\n",
    "de lo anteriormente expuesto, podemos notar que tenemos 50 mil de los cuales 25 son positivos y 25 mil son opiniones negativas de acuerdo a la web\n",
    "\n",
    "> AL Maas, RE Daly, PT Pham, D Huang, AY Ng, and C Potts. Learning word vectors for sentiment analysis. In Proceedings of the 49th Annual Meeting of the Association for Computational Lin- guistics: Human Language Technologies, pages 142–150, Portland, Oregon, USA, June 2011. Association for Computational Linguistics\n",
    "\n",
    "[Source: http://ai.stanford.edu/~amaas/data/sentiment/]"
   ]
  },
  {
   "cell_type": "markdown",
   "metadata": {},
   "source": [
    "## Procesamiento de los datos\n",
    "\n",
    "ahora vamos a definir nuestro procesamiento de datos para la mejor manipulacion \n",
    " del texto asi, usaremos un tokonizer para sacar la raiz de las palabras derivadas \n",
    " asi como tambien usaremos un delimitador de palabras para eliminar los articulos, \n",
    " pronnombres y algunos emoticones que sean importantes las extraeremos"
   ]
  },
  {
   "cell_type": "markdown",
   "metadata": {},
   "source": [
    "importar al algoritmo stemmer de nltk para eliminar y \n",
    "convertir las palbras a raiz"
   ]
  },
  {
   "cell_type": "code",
   "execution_count": 4,
   "metadata": {},
   "outputs": [],
   "source": [
    "from nltk.stem.porter import PorterStemmer\n",
    "\n",
    "# importar el corpus de los stopwords\n",
    "from nltk.corpus import stopwords\n",
    "import re # importar la expresion regular para substrings y thml tags\n",
    "\n",
    "ex = '!'\n",
    "stop = stopwords.words('english')[17:] #para texto en ingles\n",
    "#print stopwords.words('english')[:17]\n",
    "porter = PorterStemmer() #algoritmo \n",
    "\n",
    "def tokenizer(text):\n",
    "    text = re.sub('<[^>]*>', '',text) #eliminar lasa etiquetas html\n",
    "    text = re.sub('!',' ! ',text)\n",
    "    #print text\n",
    "    emoticones = re.findall('(?::|;|=)(?:-)?(?:\\)|\\(|D|P)',text.lower()) #encontrar los emoticones    \n",
    "    exclamation = re.findall('\\!',text.lower()) # encontrar los signos de exclamacion\n",
    "    no_words = re.findall('no',text.lower())\n",
    "    #print no_words\n",
    "    text = re.sub('[\\W]+',' ',text.lower())+' '.join(emoticones).replace('-','') #+' '.join(exclamation).replace('',' ') # agregar los emoticones al final sin -\n",
    "    #print text\n",
    "    text = [w for w in text.split() if w not in stop] # dividir si no es stopword\n",
    "    tokenized = [porter.stem(w) for w in text] # aplicando el stemmer\n",
    "    if(len(no_words) > 0):\n",
    "        text.append(no_words[0])\n",
    "    if(len(exclamation)):\n",
    "        text.append(exclamation[0])\n",
    "    return text"
   ]
  },
  {
   "cell_type": "markdown",
   "metadata": {},
   "source": [
    "Ahora vamos probar nuestra funcion implemeantada anteriormente con un ejemplo de entrada"
   ]
  },
  {
   "cell_type": "code",
   "execution_count": 5,
   "metadata": {},
   "outputs": [
    {
     "name": "stdout",
     "output_type": "stream",
     "text": [
      "['test', 'cool', 'ah', 'kidding', 'great:)', ':(', 'no', '!']\n"
     ]
    }
   ],
   "source": [
    "print tokenizer('</body>This :) is a <a> test!, cool ah!, no just kidding :(<html> that is great</br>')"
   ]
  },
  {
   "cell_type": "markdown",
   "metadata": {},
   "source": [
    "bien ahora vamos a pasar al Aprendizaje ya que logramos hacer el precesamiento exitosamente asi que vamos , manos la obra\n",
    "## Aprendizaje con  SciKit\n",
    "\n",
    "Primero, definimos un generador, que retorna el contenido del documento con su correspondiente clase etiqueta"
   ]
  },
  {
   "cell_type": "code",
   "execution_count": 6,
   "metadata": {},
   "outputs": [],
   "source": [
    "def stream_doc(path):\n",
    "    with open(path, 'r') as csv:\n",
    "        next(csv) #salter la cabecera // next lee la columan y lista en orden\n",
    "        for line in csv:\n",
    "            text, label = line[:-3], int(line[-2])\n",
    "            yield text, label # funcion generador con texto y tag{1,0}\n"
   ]
  },
  {
   "cell_type": "markdown",
   "metadata": {},
   "source": [
    "ahora vamos probar lo anteriormente implementado del generador , ojo que este es solo un generador de un doc primer index"
   ]
  },
  {
   "cell_type": "code",
   "execution_count": 7,
   "metadata": {},
   "outputs": [
    {
     "data": {
      "text/plain": [
       "('\"In 1974, the teenager Martha Moxley (Maggie Grace) moves to the high-class area of Belle Haven, Greenwich, Connecticut. On the Mischief Night, eve of Halloween, she was murdered in the backyard of her house and her murder remained unsolved. Twenty-two years later, the writer Mark Fuhrman (Christopher Meloni), who is a former LA detective that has fallen in disgrace for perjury in O.J. Simpson trial and moved to Idaho, decides to investigate the case with his partner Stephen Weeks (Andrew Mitchell) with the purpose of writing a book. The locals squirm and do not welcome them, but with the support of the retired detective Steve Carroll (Robert Forster) that was in charge of the investigation in the 70\\'s, they discover the criminal and a net of power and money to cover the murder.<br /><br />\"\"Murder in Greenwich\"\" is a good TV movie, with the true story of a murder of a fifteen years old girl that was committed by a wealthy teenager whose mother was a Kennedy. The powerful and rich family used their influence to cover the murder for more than twenty years. However, a snoopy detective and convicted perjurer in disgrace was able to disclose how the hideous crime was committed. The screenplay shows the investigation of Mark and the last days of Martha in parallel, but there is a lack of the emotion in the dramatization. My vote is seven.<br /><br />Title (Brazil): Not Available\"',\n",
       " 1)"
      ]
     },
     "execution_count": 7,
     "metadata": {},
     "output_type": "execute_result"
    }
   ],
   "source": [
    "next(stream_doc(path='shuffled_movie_data.csv'))"
   ]
  },
  {
   "cell_type": "markdown",
   "metadata": {},
   "source": [
    "\n",
    "## Implementacion del minibatch(mini Lote)\n",
    "\n",
    " funcion que recupera un especifico numero (size)de lotes\n",
    " documentos "
   ]
  },
  {
   "cell_type": "code",
   "execution_count": 8,
   "metadata": {},
   "outputs": [],
   "source": [
    "def get_minibatch(doc_stream, size): # funcion get_minibatch\n",
    "    docs, y = [], [] # crear variables locales\n",
    "    for _ in range(size): \n",
    "        text, label = next(doc_stream) # recorrer con texto y tags\n",
    "        docs.append(text)\n",
    "        y.append(label)\n",
    "    return docs, y # return de values of text an tags\n"
   ]
  },
  {
   "cell_type": "code",
   "execution_count": 9,
   "metadata": {},
   "outputs": [
    {
     "name": "stdout",
     "output_type": "stream",
     "text": [
      "-> [1, 0, 0, 1, 0, 1, 1, 1, 1, 1]\n"
     ]
    }
   ],
   "source": [
    "# para obtener en un arreglo de tamaño 1 se muestra acontinuacion \n",
    "ar = get_minibatch(stream_doc(path='shuffled_movie_data.csv'), size= 50000) # get string of text\n",
    "#print ar\n",
    "\n",
    "#print ar[0][0]\n",
    "print '->', ar[1][:10]\n",
    "#print tokenizer(ar) # show text in tokens"
   ]
  },
  {
   "cell_type": "markdown",
   "metadata": {},
   "source": [
    "una vez tokenizado nuestras muestras el siguiente paso es extraer nuestras proppias caracteristicas \n",
    "de acuerdo al link descrito mas abajo"
   ]
  },
  {
   "cell_type": "markdown",
   "metadata": {},
   "source": [
    "### Ahora vamos hacer uso del 'hashing trick' como se explica\n",
    "  en http://scikit-learn.org/stable/modules/generated/sklearn.feature_extraction.text.HashingVectorizer.html\n",
    "  es un metodo de scikit-learn que convierte una collecion (textos) a una matriz\n",
    "  de ocurrencias de tipo esparsa como : https://stackoverflow.com/questions/8673035/what-is-feature-hashing-hashing-trick"
   ]
  },
  {
   "cell_type": "code",
   "execution_count": 25,
   "metadata": {},
   "outputs": [
    {
     "data": {
      "text/html": [
       "<div>\n",
       "<style scoped>\n",
       "    .dataframe tbody tr th:only-of-type {\n",
       "        vertical-align: middle;\n",
       "    }\n",
       "\n",
       "    .dataframe tbody tr th {\n",
       "        vertical-align: top;\n",
       "    }\n",
       "\n",
       "    .dataframe thead th {\n",
       "        text-align: right;\n",
       "    }\n",
       "</style>\n",
       "<table border=\"1\" class=\"dataframe\">\n",
       "  <thead>\n",
       "    <tr style=\"text-align: right;\">\n",
       "      <th></th>\n",
       "      <th>A</th>\n",
       "      <th>B</th>\n",
       "      <th>C</th>\n",
       "      <th>D</th>\n",
       "      <th>E</th>\n",
       "      <th>F</th>\n",
       "      <th>Y</th>\n",
       "    </tr>\n",
       "  </thead>\n",
       "  <tbody>\n",
       "    <tr>\n",
       "      <th>0</th>\n",
       "      <td>8</td>\n",
       "      <td>14</td>\n",
       "      <td>1</td>\n",
       "      <td>1</td>\n",
       "      <td>0</td>\n",
       "      <td>4.867534</td>\n",
       "      <td>1</td>\n",
       "    </tr>\n",
       "    <tr>\n",
       "      <th>1</th>\n",
       "      <td>13</td>\n",
       "      <td>10</td>\n",
       "      <td>1</td>\n",
       "      <td>15</td>\n",
       "      <td>1</td>\n",
       "      <td>4.875197</td>\n",
       "      <td>0</td>\n",
       "    </tr>\n",
       "    <tr>\n",
       "      <th>2</th>\n",
       "      <td>14</td>\n",
       "      <td>21</td>\n",
       "      <td>1</td>\n",
       "      <td>6</td>\n",
       "      <td>1</td>\n",
       "      <td>5.062595</td>\n",
       "      <td>0</td>\n",
       "    </tr>\n",
       "    <tr>\n",
       "      <th>3</th>\n",
       "      <td>4</td>\n",
       "      <td>0</td>\n",
       "      <td>0</td>\n",
       "      <td>7</td>\n",
       "      <td>0</td>\n",
       "      <td>3.761200</td>\n",
       "      <td>1</td>\n",
       "    </tr>\n",
       "    <tr>\n",
       "      <th>4</th>\n",
       "      <td>4</td>\n",
       "      <td>2</td>\n",
       "      <td>0</td>\n",
       "      <td>3</td>\n",
       "      <td>0</td>\n",
       "      <td>4.174387</td>\n",
       "      <td>0</td>\n",
       "    </tr>\n",
       "    <tr>\n",
       "      <th>5</th>\n",
       "      <td>9</td>\n",
       "      <td>3</td>\n",
       "      <td>1</td>\n",
       "      <td>6</td>\n",
       "      <td>0</td>\n",
       "      <td>4.290459</td>\n",
       "      <td>1</td>\n",
       "    </tr>\n",
       "    <tr>\n",
       "      <th>6</th>\n",
       "      <td>15</td>\n",
       "      <td>4</td>\n",
       "      <td>1</td>\n",
       "      <td>7</td>\n",
       "      <td>0</td>\n",
       "      <td>5.181784</td>\n",
       "      <td>1</td>\n",
       "    </tr>\n",
       "    <tr>\n",
       "      <th>7</th>\n",
       "      <td>4</td>\n",
       "      <td>4</td>\n",
       "      <td>1</td>\n",
       "      <td>1</td>\n",
       "      <td>1</td>\n",
       "      <td>4.304065</td>\n",
       "      <td>1</td>\n",
       "    </tr>\n",
       "    <tr>\n",
       "      <th>8</th>\n",
       "      <td>6</td>\n",
       "      <td>3</td>\n",
       "      <td>1</td>\n",
       "      <td>4</td>\n",
       "      <td>1</td>\n",
       "      <td>4.204693</td>\n",
       "      <td>1</td>\n",
       "    </tr>\n",
       "    <tr>\n",
       "      <th>9</th>\n",
       "      <td>10</td>\n",
       "      <td>4</td>\n",
       "      <td>1</td>\n",
       "      <td>0</td>\n",
       "      <td>1</td>\n",
       "      <td>4.406719</td>\n",
       "      <td>1</td>\n",
       "    </tr>\n",
       "  </tbody>\n",
       "</table>\n",
       "</div>"
      ],
      "text/plain": [
       "    A   B  C   D  E         F  Y\n",
       "0   8  14  1   1  0  4.867534  1\n",
       "1  13  10  1  15  1  4.875197  0\n",
       "2  14  21  1   6  1  5.062595  0\n",
       "3   4   0  0   7  0  3.761200  1\n",
       "4   4   2  0   3  0  4.174387  0\n",
       "5   9   3  1   6  0  4.290459  1\n",
       "6  15   4  1   7  0  5.181784  1\n",
       "7   4   4  1   1  1  4.304065  1\n",
       "8   6   3  1   4  1  4.204693  1\n",
       "9  10   4  1   0  1  4.406719  1"
      ]
     },
     "execution_count": 25,
     "metadata": {},
     "output_type": "execute_result"
    }
   ],
   "source": [
    "# exportar la libreria HashingVectorizer\n",
    "from sklearn.feature_extraction.text import HashingVectorizer \n",
    "# hacer uso del hashing vectorizer de 2²21 = 2097152 caracteristicas\n",
    "vect = HashingVectorizer(decode_error = 'ignore',n_features = 2**21, preprocessor = None, tokenizer = tokenizer) \n",
    "\n",
    "# Excercise 1: define new features according to https://web.stanford.edu/~jurafsky/slp3/5.pdf\n",
    "# para este ejercicio vamos a clasificar nuestras propias caracteristicas que son 6 de acuerdo al pdf\n",
    "# estos son : positives_words, negatives_words, 1st and 2nd words, no word, exclamation y ln(counts words)\n",
    "# tambien tomaremos encuenta otras caracteristicas como los emoticones positivos y negativos\n",
    "\n",
    "from nltk.corpus import opinion_lexicon\n",
    "#from nltk.tokenize import treebank\n",
    "\n",
    "def my_feature(sentence):\n",
    "    \n",
    "    pos_words = 0\n",
    "    neg_words = 0\n",
    "    pronouns = 0\n",
    "    no_words = 0\n",
    "    excla_words = 0\n",
    "\n",
    "    tokenized_sent = [word.lower() for word in tokenizer(sentence)]\n",
    "    # creamos lista de nuevas caracteristicas y\n",
    "    y = []\n",
    "    for word in tokenized_sent:\n",
    "        #print word\n",
    "        if word in opinion_lexicon.positive():\n",
    "            pos_words +=1\n",
    "        elif word in opinion_lexicon.negative():\n",
    "            neg_words += 1\n",
    "        elif word in ('i','me','my','myself','we','you','your','yours','myself','our','ours','yourself','yourselves'):\n",
    "            pronouns += 1\n",
    "            \n",
    "        if word =='no':\n",
    "            no_words = 1\n",
    "        elif word == '!':\n",
    "            excla_words = 1\n",
    "    \n",
    "    \n",
    "    y.append(pos_words) # A    \n",
    "    y.append(neg_words) # B\n",
    "    y.append(no_words)  # C\n",
    "    y.append(pronouns)  # D\n",
    "    y.append(excla_words) # E\n",
    "    y.append(np.log(len(tokenized_sent))) # F\n",
    "    \n",
    "    return y\n",
    "\n",
    "\n",
    "n_items = 1000 # veces el numero es un buen rango rapido\n",
    "matrix = [] # matriz para almacenar las nuevas caracteristicas\n",
    "sent = []\n",
    "#loop for para recorrer todos los 10 texts\n",
    "for i in range(n_items):\n",
    "    car = my_feature(ar[0][i])\n",
    "    car.append(ar[1][i])     \n",
    "    matrix.append(car)\n",
    "\n",
    "'''\n",
    "for j in range(n_items):\n",
    "    print matrix[j]\n",
    "'''    \n",
    "\n",
    "# creamos un nuevo dataFrame\n",
    "# A: numero de positive words\n",
    "# B: numero de negative words\n",
    "# C: if exits 'no' word in the text\n",
    "# D: numero de pronombres 1ra y 2da persona\n",
    "# E: si existe signo de exclamacion\n",
    "# F: ln(count(words))\n",
    "df = pd.DataFrame(matrix,columns=list('ABCDEFY'))    \n",
    "df.shape\n",
    "# mostrar los elementos que tiene df\n",
    "df.head(10)\n"
   ]
  },
  {
   "cell_type": "code",
   "execution_count": 26,
   "metadata": {},
   "outputs": [],
   "source": [
    "#guardamos los datos en un archivo csv\n",
    "df.to_csv('6Features.csv')"
   ]
  },
  {
   "cell_type": "code",
   "execution_count": 85,
   "metadata": {},
   "outputs": [
    {
     "name": "stdout",
     "output_type": "stream",
     "text": [
      "f**k\n"
     ]
    },
    {
     "data": {
      "text/html": [
       "<div>\n",
       "<style scoped>\n",
       "    .dataframe tbody tr th:only-of-type {\n",
       "        vertical-align: middle;\n",
       "    }\n",
       "\n",
       "    .dataframe tbody tr th {\n",
       "        vertical-align: top;\n",
       "    }\n",
       "\n",
       "    .dataframe thead th {\n",
       "        text-align: right;\n",
       "    }\n",
       "</style>\n",
       "<table border=\"1\" class=\"dataframe\">\n",
       "  <thead>\n",
       "    <tr style=\"text-align: right;\">\n",
       "      <th></th>\n",
       "      <th>review</th>\n",
       "      <th>sentiment</th>\n",
       "      <th>X1</th>\n",
       "      <th>X2</th>\n",
       "      <th>X3</th>\n",
       "      <th>X4</th>\n",
       "      <th>X5</th>\n",
       "      <th>X6</th>\n",
       "    </tr>\n",
       "  </thead>\n",
       "  <tbody>\n",
       "    <tr>\n",
       "      <th>49995</th>\n",
       "      <td>OK, lets start with the best. the building. al...</td>\n",
       "      <td>0</td>\n",
       "      <td>92</td>\n",
       "      <td>50</td>\n",
       "      <td>1</td>\n",
       "      <td>7</td>\n",
       "      <td>0</td>\n",
       "      <td>7.163947</td>\n",
       "    </tr>\n",
       "    <tr>\n",
       "      <th>49996</th>\n",
       "      <td>The British 'heritage film' industry is out of...</td>\n",
       "      <td>0</td>\n",
       "      <td>106</td>\n",
       "      <td>56</td>\n",
       "      <td>1</td>\n",
       "      <td>0</td>\n",
       "      <td>1</td>\n",
       "      <td>7.396949</td>\n",
       "    </tr>\n",
       "    <tr>\n",
       "      <th>49997</th>\n",
       "      <td>I don't even know where to begin on this one. ...</td>\n",
       "      <td>0</td>\n",
       "      <td>36</td>\n",
       "      <td>12</td>\n",
       "      <td>1</td>\n",
       "      <td>4</td>\n",
       "      <td>1</td>\n",
       "      <td>6.523562</td>\n",
       "    </tr>\n",
       "    <tr>\n",
       "      <th>49998</th>\n",
       "      <td>Richard Tyler is a little boy who is scared of...</td>\n",
       "      <td>0</td>\n",
       "      <td>37</td>\n",
       "      <td>22</td>\n",
       "      <td>1</td>\n",
       "      <td>0</td>\n",
       "      <td>0</td>\n",
       "      <td>6.302619</td>\n",
       "    </tr>\n",
       "    <tr>\n",
       "      <th>49999</th>\n",
       "      <td>I waited long to watch this movie. Also becaus...</td>\n",
       "      <td>1</td>\n",
       "      <td>18</td>\n",
       "      <td>3</td>\n",
       "      <td>0</td>\n",
       "      <td>3</td>\n",
       "      <td>0</td>\n",
       "      <td>5.468060</td>\n",
       "    </tr>\n",
       "  </tbody>\n",
       "</table>\n",
       "</div>"
      ],
      "text/plain": [
       "                                                  review  sentiment   X1  X2  \\\n",
       "49995  OK, lets start with the best. the building. al...          0   92  50   \n",
       "49996  The British 'heritage film' industry is out of...          0  106  56   \n",
       "49997  I don't even know where to begin on this one. ...          0   36  12   \n",
       "49998  Richard Tyler is a little boy who is scared of...          0   37  22   \n",
       "49999  I waited long to watch this movie. Also becaus...          1   18   3   \n",
       "\n",
       "       X3  X4  X5        X6  \n",
       "49995   1   7   0  7.163947  \n",
       "49996   1   0   1  7.396949  \n",
       "49997   1   4   1  6.523562  \n",
       "49998   1   0   0  6.302619  \n",
       "49999   0   3   0  5.468060  "
      ]
     },
     "execution_count": 85,
     "metadata": {},
     "output_type": "execute_result"
    }
   ],
   "source": [
    "#another way to extract the data\n",
    "positivos = opinion_lexicon.positive()\n",
    "negativos = opinion_lexicon.negative()\n",
    "\n",
    "#total_df = pd.DataFrame(columns=['X1','X2','X3','X4','X5','X6'])\n",
    "total_df = data_df\n",
    "total_df['X1'] = 0\n",
    "total_df['X2'] = 0\n",
    "\n",
    "\n",
    "#negativos[467] = 'bull'\n",
    "#negativos[1559] = 'fuck'\n",
    "print negativos[1559]\n",
    "\n",
    "for i in range(len(positivos)):\n",
    "    #print positivos[i]\n",
    "    contar = total_df['review'].str.count(positivos[i])\n",
    "    total_df['X1'] = contar + total_df['X1']\n",
    "\n",
    "for i in range(len(negativos)):\n",
    "    #print negativos[i]\n",
    "    if(i != 467 and i != 1559):\n",
    "        contar = total_df['review'].str.count(negativos[i])\n",
    "        total_df['X2'] = contar + total_df['X2']\n",
    "\n",
    "total_df['X3'] = total_df['review'].str.contains('no', case=False).astype(int)\n",
    "total_df['X4'] = total_df['review'].str.count('i ') + \\\n",
    "    total_df['review'].str.count('I ')   + \\\n",
    "    total_df['review'].str.count('I\\'')  + \\\n",
    "    total_df['review'].str.count('i\\'')  + \\\n",
    "    total_df['review'].str.count('you ') + \\\n",
    "    total_df['review'].str.count('You ') + \\\n",
    "    total_df['review'].str.count(' u ')  + \\\n",
    "    total_df['review'].str.count(' U ')  + \\\n",
    "    total_df['review'].str.count(' u\\'')\n",
    "\n",
    "total_df['X5'] = total_df['review'].str.contains('!', case=False).astype(int)\n",
    "total_df['X6'] = np.log(total_df['review'].str.count('').add(1))\n",
    "\n",
    "total_df.tail()\n",
    "\n",
    "#print 'example: ',positivos[6]"
   ]
  },
  {
   "cell_type": "code",
   "execution_count": 99,
   "metadata": {},
   "outputs": [
    {
     "data": {
      "text/html": [
       "<div>\n",
       "<style scoped>\n",
       "    .dataframe tbody tr th:only-of-type {\n",
       "        vertical-align: middle;\n",
       "    }\n",
       "\n",
       "    .dataframe tbody tr th {\n",
       "        vertical-align: top;\n",
       "    }\n",
       "\n",
       "    .dataframe thead th {\n",
       "        text-align: right;\n",
       "    }\n",
       "</style>\n",
       "<table border=\"1\" class=\"dataframe\">\n",
       "  <thead>\n",
       "    <tr style=\"text-align: right;\">\n",
       "      <th></th>\n",
       "      <th>review</th>\n",
       "      <th>sentiment</th>\n",
       "      <th>X1</th>\n",
       "      <th>X2</th>\n",
       "      <th>X3</th>\n",
       "      <th>X4</th>\n",
       "      <th>X5</th>\n",
       "      <th>X6</th>\n",
       "    </tr>\n",
       "  </thead>\n",
       "  <tbody>\n",
       "    <tr>\n",
       "      <th>0</th>\n",
       "      <td>In 1974, the teenager Martha Moxley (Maggie Gr...</td>\n",
       "      <td>1</td>\n",
       "      <td>90</td>\n",
       "      <td>30</td>\n",
       "      <td>1</td>\n",
       "      <td>0</td>\n",
       "      <td>0</td>\n",
       "      <td>7.240650</td>\n",
       "    </tr>\n",
       "    <tr>\n",
       "      <th>1</th>\n",
       "      <td>OK... so... I really like Kris Kristofferson a...</td>\n",
       "      <td>0</td>\n",
       "      <td>82</td>\n",
       "      <td>41</td>\n",
       "      <td>1</td>\n",
       "      <td>8</td>\n",
       "      <td>1</td>\n",
       "      <td>7.138073</td>\n",
       "    </tr>\n",
       "    <tr>\n",
       "      <th>2</th>\n",
       "      <td>***SPOILER*** Do not read this, if you think a...</td>\n",
       "      <td>0</td>\n",
       "      <td>108</td>\n",
       "      <td>47</td>\n",
       "      <td>1</td>\n",
       "      <td>6</td>\n",
       "      <td>1</td>\n",
       "      <td>7.426549</td>\n",
       "    </tr>\n",
       "    <tr>\n",
       "      <th>3</th>\n",
       "      <td>hi for all the people who have seen this wonde...</td>\n",
       "      <td>1</td>\n",
       "      <td>31</td>\n",
       "      <td>7</td>\n",
       "      <td>0</td>\n",
       "      <td>7</td>\n",
       "      <td>0</td>\n",
       "      <td>5.948035</td>\n",
       "    </tr>\n",
       "    <tr>\n",
       "      <th>4</th>\n",
       "      <td>I recently bought the DVD, forgetting just how...</td>\n",
       "      <td>0</td>\n",
       "      <td>39</td>\n",
       "      <td>25</td>\n",
       "      <td>0</td>\n",
       "      <td>3</td>\n",
       "      <td>0</td>\n",
       "      <td>6.551080</td>\n",
       "    </tr>\n",
       "  </tbody>\n",
       "</table>\n",
       "</div>"
      ],
      "text/plain": [
       "                                              review  sentiment   X1  X2  X3  \\\n",
       "0  In 1974, the teenager Martha Moxley (Maggie Gr...          1   90  30   1   \n",
       "1  OK... so... I really like Kris Kristofferson a...          0   82  41   1   \n",
       "2  ***SPOILER*** Do not read this, if you think a...          0  108  47   1   \n",
       "3  hi for all the people who have seen this wonde...          1   31   7   0   \n",
       "4  I recently bought the DVD, forgetting just how...          0   39  25   0   \n",
       "\n",
       "   X4  X5        X6  \n",
       "0   0   0  7.240650  \n",
       "1   8   1  7.138073  \n",
       "2   6   1  7.426549  \n",
       "3   7   0  5.948035  \n",
       "4   3   0  6.551080  "
      ]
     },
     "execution_count": 99,
     "metadata": {},
     "output_type": "execute_result"
    }
   ],
   "source": [
    "#guardamos los datos \n",
    "total_df.to_csv('Total_Features.csv')\n"
   ]
  },
  {
   "cell_type": "code",
   "execution_count": 140,
   "metadata": {},
   "outputs": [
    {
     "data": {
      "text/plain": [
       "array([[ 90.        ,  30.        ,   1.        ,   0.        ,\n",
       "          0.        ,   7.24064969],\n",
       "       [ 82.        ,  41.        ,   1.        ,   8.        ,\n",
       "          1.        ,   7.13807303],\n",
       "       [108.        ,  47.        ,   1.        ,   6.        ,\n",
       "          1.        ,   7.42654907],\n",
       "       ...,\n",
       "       [ 36.        ,  12.        ,   1.        ,   4.        ,\n",
       "          1.        ,   6.52356231],\n",
       "       [ 37.        ,  22.        ,   1.        ,   0.        ,\n",
       "          0.        ,   6.30261898],\n",
       "       [ 18.        ,   3.        ,   0.        ,   3.        ,\n",
       "          0.        ,   5.46806014]])"
      ]
     },
     "execution_count": 140,
     "metadata": {},
     "output_type": "execute_result"
    }
   ],
   "source": [
    "my_df = pd.read_csv('Total_Features.csv')\n",
    "\n",
    "#my_df.tail()\n",
    "my_df.drop('review',1, inplace=True)\n",
    "#my_df.drop('Unnamed',1, inplace=True)\n",
    "my_x_train = my_df.iloc[:,2:8].values # cogiendo todos los primero valores\n",
    "my_y_train = my_df.iloc[:,1:2].values\n",
    "\n"
   ]
  },
  {
   "cell_type": "markdown",
   "metadata": {},
   "source": [
    "Primero ahora vamos a mostrar la relacion mediante un gráfico asi que ahora mostramos"
   ]
  },
  {
   "cell_type": "code",
   "execution_count": 86,
   "metadata": {},
   "outputs": [
    {
     "data": {
      "image/png": "[encoded data removed]",
      "text/plain": [
       "<Figure size 432x288 with 1 Axes>"
      ]
     },
     "metadata": {
      "needs_background": "light"
     },
     "output_type": "display_data"
    }
   ],
   "source": [
    "# importar la libreria de graficos \n",
    "import seaborn as sns\n",
    "\n",
    "#sns.distplot(df['A']);\n",
    "dato = pd.read_csv('6Features.csv')\n",
    "sns.distplot(dato['A']);\n",
    "#dato.tail()"
   ]
  },
  {
   "cell_type": "markdown",
   "metadata": {},
   "source": [
    "### mapa de correlación (heatmap)\n"
   ]
  },
  {
   "cell_type": "code",
   "execution_count": 87,
   "metadata": {},
   "outputs": [
    {
     "data": {
      "image/png": "[encoded data removed]",
      "text/plain": [
       "<Figure size 864x648 with 2 Axes>"
      ]
     },
     "metadata": {
      "needs_background": "light"
     },
     "output_type": "display_data"
    }
   ],
   "source": [
    "import matplotlib.pyplot as plt\n",
    "#matriz de correlacion con mapa de calor\n",
    "matCorr = dato.corr()\n",
    "f, ax = plt.subplots(figsize=(12, 9))\n",
    "sns.heatmap(matCorr, vmax=.8, square=True);"
   ]
  },
  {
   "cell_type": "markdown",
   "metadata": {},
   "source": [
    "### Clasificador de SGD \n",
    "\n",
    "el clasificador SGD va instanciar al clasificador lineal de regresion logistica que aprende de los documentos incrementando estocasticamente con un gradiente descendiente"
   ]
  },
  {
   "cell_type": "code",
   "execution_count": 12,
   "metadata": {},
   "outputs": [
    {
     "name": "stdout",
     "output_type": "stream",
     "text": [
      "[[ 8.         14.          1.          1.          0.          4.86753445]\n",
      " [13.         10.          1.         15.          1.          4.87519732]\n",
      " [14.         21.          1.          6.          1.          5.06259503]\n",
      " [ 4.          0.          0.          7.          0.          3.76120012]\n",
      " [ 4.          2.          0.          3.          0.          4.17438727]\n",
      " [ 9.          3.          1.          6.          0.          4.29045944]\n",
      " [15.          4.          1.          7.          0.          5.18178355]\n",
      " [ 4.          4.          1.          1.          1.          4.30406509]\n",
      " [ 6.          3.          1.          4.          1.          4.20469262]\n",
      " [10.          4.          1.          0.          1.          4.40671925]]\n",
      "10\n"
     ]
    }
   ],
   "source": [
    "# importar clasificador modelo lineal SGD\n",
    "from sklearn.linear_model import SGDClassifier\n",
    "clf = SGDClassifier(loss='log', random_state = 1, max_iter = 1)\n",
    "doc_stream = stream_doc(path='shuffled_movie_data.csv')\n",
    "\n",
    "# Excercise 2: implement a Logistic Regression classifier, using regularization, according to https://web.stanford.edu/~jurafsky/slp3/5.pdf\n",
    "\n",
    "#importar el clasificador Regresion Lineal Logistica\n",
    "from sklearn.linear_model import LogisticRegression\n",
    "\n",
    "# asignaremos primero los valores x e Y\n",
    "\n",
    "x = df.iloc[:,:-1].values # cogiendo todos los primero valores\n",
    "y = df.iloc[:,6].values\n",
    "print x\n",
    "print len(y)\n",
    "\n"
   ]
  },
  {
   "cell_type": "markdown",
   "metadata": {},
   "source": [
    "bien, ahora tenemos importado el clasificador pasando por el doc_stream, listo paras"
   ]
  },
  {
   "cell_type": "markdown",
   "metadata": {},
   "source": [
    "### Logistic Regression implementacion\n",
    "\n",
    "acontinuacion vamos mostramos los mismos resultados con nuestra implementacion de la Regresion Logistica "
   ]
  },
  {
   "cell_type": "code",
   "execution_count": 148,
   "metadata": {},
   "outputs": [
    {
     "name": "stdout",
     "output_type": "stream",
     "text": [
      "(10, 6)\n",
      "(10, 6)\n",
      "(10, 6)\n",
      "(10, 6)\n",
      "(10, 6)\n",
      "(10, 6)\n",
      "(10, 6)\n",
      "(10, 6)\n",
      "(10, 6)\n",
      "(10, 6)\n",
      "(10, 6)\n",
      "(10, 6)\n",
      "(10, 6)\n",
      "(10, 6)\n",
      "(10, 6)\n",
      "(10, 6)\n",
      "(10, 6)\n",
      "(10, 6)\n",
      "(10, 6)\n",
      "(10, 6)\n",
      "(10, 6)\n",
      "(10, 6)\n",
      "(10, 6)\n",
      "(10, 6)\n",
      "(10, 6)\n",
      "(10, 6)\n",
      "(10, 6)\n",
      "(10, 6)\n",
      "(10, 6)\n",
      "(10, 6)\n",
      "(10, 6)\n",
      "(10, 6)\n",
      "(10, 6)\n",
      "(10, 6)\n",
      "(10, 6)\n",
      "(10, 6)\n",
      "(10, 6)\n",
      "(10, 6)\n",
      "(10, 6)\n",
      "(10, 6)\n",
      "(10, 6)\n",
      "(10, 6)\n",
      "(10, 6)\n",
      "(10, 6)\n",
      "(10, 6)\n"
     ]
    }
   ],
   "source": [
    "# My Regresion\n",
    "import random\n",
    "import numpy as np  # multidimensional array \n",
    "\n",
    "\n",
    "class LogisticRegression(object):\n",
    "\n",
    "    # inicializar\n",
    "\n",
    "    def __init__(self, X, Y, alpha=0.0005, lam=0.1, printIter=True):\n",
    "\n",
    "        x = np.array(X)\n",
    "        #x= X\n",
    "        print X.shape\n",
    "        m, n = x.shape\n",
    "\n",
    "        # normalizar data\n",
    "        self.xMean = np.mean(x, axis=0)\n",
    "        self.xStd = np.std(x, axis=0)\n",
    "        x = (x - self.xMean) / self.xStd\n",
    "\n",
    "        # agregar const column a X\n",
    "        const = np.array([1] * m).reshape(m, 1)\n",
    "        self.X = np.append(const, x, axis=1)\n",
    "\n",
    "        self.Y = np.array(Y)\n",
    "        self.alpha = alpha\n",
    "        self.lam = lam\n",
    "        self.theta = np.array([0.0] * (n + 1))\n",
    "       # print 't: ',self.theta\n",
    "        self.printIter = printIter\n",
    "        #print \"lambda=\", self.lam\n",
    "\n",
    "    # funccion de transformacion sigmoide\n",
    "    def _sigmoid(self, x):\n",
    "        #m,n = x.shape\n",
    "        #z = np.array([0.0]*(m*n)).reshape(m,n)\n",
    "        z = 1.0 / (1.0 + np.exp((-1) * x))\n",
    "        return z\n",
    "\n",
    "    # calcular costo\n",
    "    def _costFunc(self):\n",
    "        \"calculate cost\"\n",
    "        m, n = self.X.shape\n",
    "        h_theta = self._sigmoid(np.dot(self.X, self.theta))\n",
    "\n",
    "        cost1 = (-1) * self.Y * np.log(h_theta)\n",
    "        cost2 = (1.0 - self.Y) * np.log(1.0 - h_theta)\n",
    "\n",
    "        cost = (\n",
    "            sum(cost1 - cost2) + 0.5 * self.lam * sum(self.theta[1:] ** 2)) / m\n",
    "        return cost\n",
    "\n",
    "    # gradient descend\n",
    "    def _gradientDescend(self, iters):\n",
    "        \"\"\"\n",
    "        gradiente descendiente:\n",
    "        X: matriz de feature\n",
    "        Y: respuesta\n",
    "        theta: parametro a predecir\n",
    "        alpha: taza de aprendizaje\n",
    "        lam: lambda, penalidad en theta\n",
    "       \"\"\"\n",
    "        m, n = self.X.shape\n",
    "\n",
    "        # print \"m,n=\" , m,n\n",
    "        # print \"theta\", len(self.theta)\n",
    "\n",
    "        for i in range(0, iters):\n",
    "            theta_temp = self.theta\n",
    "\n",
    "            # update theta[0]\n",
    "            h_theta = self._sigmoid(np.dot(self.X, self.theta))\n",
    "            diff = h_theta - self.Y\n",
    "            self.theta[0] = theta_temp[0] - self.alpha * \\\n",
    "                (1.0 / m) * sum(diff * self.X[:, 0])\n",
    "\n",
    "            for j in xrange(1, n):\n",
    "                val = theta_temp[\n",
    "                    j] - self.alpha * (1.0 / m) * (sum(diff * self.X[:, j]) + self.lam * m * theta_temp[j])\n",
    "                # print val\n",
    "                self.theta[j] = val\n",
    "            # calcular costo y mostrar print\n",
    "            cost = self._costFunc()\n",
    "\n",
    "            if self.printIter:\n",
    "                print \"Iteration\", i, \"\\tcost=\", cost\n",
    "                # print \"theta\", self.theta\n",
    "\n",
    "    # ejecutar\n",
    "    def run(self, iters, printIter=True):\n",
    "        self.printIter = printIter\n",
    "        self._gradientDescend(iters)\n",
    "        \n",
    "    # prediccion\n",
    "    def predict(self, X):\n",
    "\n",
    "        # add const column\n",
    "        m, n = X.shape\n",
    "        x = np.array(X)\n",
    "        x = (x - self.xMean) / self.xStd\n",
    "        const = np.array([1] * m).reshape(m, 1)\n",
    "        X = np.append(const, x, axis=1)\n",
    "\n",
    "        pred = self._sigmoid(np.dot(X, self.theta))\n",
    "        np.putmask(pred, pred >= 0.5, 1.0)\n",
    "        np.putmask(pred, pred < 0.5, 0.0)\n",
    "\n",
    "        return pred\n",
    "\n",
    "#------------------------------------------------------------------------------------------------------\n",
    "\n",
    "\n",
    "#model \n",
    "initial_theta = [0,0]\n",
    "alpha = 0.1\n",
    "iterations = 1000\n",
    "##Logistic_Regression(X,Y,alpha,initial_theta,iterations)\n",
    "classes = np.array([0,1])\n",
    "tes_x = x\n",
    "yt = y\n",
    "for _ in range(45):\n",
    "    #Logistic_Regression(x,y,alpha, initial_theta, iterations)\n",
    "#    X_train, y_train = get_minibatch(doc_stream, size=100)\n",
    "#    X_train = vect.transform(X_train) # transforma una secuencia de documentos en una secuencia de matriz\n",
    "    #print X_train.shape\n",
    "    model = LogisticRegression(x, y, alpha=0.05, lam=0.1)\n",
    "    model.run(400, printIter=False)\n",
    "    #Logistic_Regression(X_train, y_train, alpha, initial_theta,iterations)\n",
    "\n",
    "#xTes,Ytest = get_minibatch(doc_stream, size=5000)\n",
    "#xTes = vect.transform(xTes)\n",
    "\n",
    "yts = model.predict(tes_x)\n"
   ]
  },
  {
   "cell_type": "markdown",
   "metadata": {},
   "source": [
    "### implementacion con Logistic Regression (Sklearn)\n",
    "\n",
    "acontinuacion presentamos la implementacion de la regresion logistica de sklearn con la clasificacion de caracteristicas del Hashingvectorizer  y mas abajo mostramos el acuraci obtenido "
   ]
  },
  {
   "cell_type": "code",
   "execution_count": 14,
   "metadata": {},
   "outputs": [],
   "source": [
    "#Fitting logistic regression to the training set\n",
    "from sklearn.linear_model import LogisticRegression\n",
    "classifier = LogisticRegression(random_state = 0)"
   ]
  },
  {
   "cell_type": "code",
   "execution_count": 15,
   "metadata": {},
   "outputs": [
    {
     "name": "stderr",
     "output_type": "stream",
     "text": [
      "/usr/local/lib/python2.7/dist-packages/sklearn/linear_model/logistic.py:432: FutureWarning: Default solver will be changed to 'lbfgs' in 0.22. Specify a solver to silence this warning.\n",
      "  FutureWarning)\n"
     ]
    }
   ],
   "source": [
    "#import pyprind\n",
    "#pbar = pyprind.ProgBar(45)\n",
    "\n",
    "'''\n",
    "classes = np.array([0, 1])\n",
    "for _ in range(45):\n",
    "    X_train, y_train = get_minibatch(doc_stream, size=1000)\n",
    "    X_train = vect.transform(X_train) # transforma una secuencia de documentos en una secuencia de matriz\n",
    "    clf.partial_fit(X_train, y_train, classes=classes)\n",
    "    #pbar.update()\n",
    "'''\n",
    "\n",
    "\n",
    "\n",
    "\n",
    "classes = np.array([0,1])\n",
    "for _ in range(45):\n",
    "    X_train, y_train = get_minibatch(doc_stream, size=1000)\n",
    "    X_train = vect.transform(X_train) # transforma una secuencia de documentos en una secuencia de matriz\n",
    "    classifier.fit(X_train, y_train)\n",
    "    "
   ]
  },
  {
   "cell_type": "code",
   "execution_count": 16,
   "metadata": {},
   "outputs": [
    {
     "name": "stdout",
     "output_type": "stream",
     "text": [
      "sklearn LR Accuracy:  0.797\n",
      "my own Accuracy: 0.9\n"
     ]
    }
   ],
   "source": [
    "xTes,Ytest = get_minibatch(doc_stream, size=5000)\n",
    "xTes = vect.transform(xTes)\n",
    "classifier.predict(xTes)\n",
    "\n",
    "#medir el accuracy obtenido por medio de la regresion lineal de sklearn\n",
    "#metric el accurary score\n",
    "from sklearn import metrics\n",
    "\n",
    "print'sklearn LR Accuracy: ',(metrics.accuracy_score(Ytest,classifier.predict(xTes)))\n",
    "print 'my own Accuracy:',metrics.accuracy_score(yts,yt)"
   ]
  },
  {
   "cell_type": "markdown",
   "metadata": {},
   "source": [
    "el acuracy de sklearn es 80% para con el hashingvectorizer, asi tambien podemos observar que la implementacion propia tiene un acuracy de 90%\n",
    "\n",
    "### training using SGDclassification from sklearn\n",
    "\n",
    "la implementación siguiente es la version original del tutorial con el vector hashingvectorizer asi como "
   ]
  },
  {
   "cell_type": "code",
   "execution_count": null,
   "metadata": {},
   "outputs": [],
   "source": [
    "classes = np.array([0, 1])\n",
    "for _ in range(45):\n",
    "    X_train, y_train = get_minibatch(doc_stream, size=1000)\n",
    "    X_train = vect.transform(X_train) # transforma una secuencia de documentos en una secuencia de matriz\n",
    "    clf.partial_fit(X_train, y_train, classes=classes)\n",
    "    #pbar.update()\n",
    "\n",
    "# finalmente obtenemos el accuracy\n",
    "X_test, y_test = get_minibatch(doc_stream, size=5000)\n",
    "X_test = vect.transform(X_test)\n",
    "print('Accuracy: %.3f' % clf.score(ytr, yts))"
   ]
  }
 ],
 "metadata": {
  "kernelspec": {
   "display_name": "Python 2",
   "language": "python",
   "name": "python2"
  },
  "language_info": {
   "codemirror_mode": {
    "name": "ipython",
    "version": 2
   },
   "file_extension": ".py",
   "mimetype": "text/x-python",
   "name": "python",
   "nbconvert_exporter": "python",
   "pygments_lexer": "ipython2",
   "version": "2.7.15rc1"
  }
 },
 "nbformat": 4,
 "nbformat_minor": 2
}
